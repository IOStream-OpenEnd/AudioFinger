{
 "cells": [
  {
   "cell_type": "markdown",
   "metadata": {},
   "source": [
    "# Stage 1 : Spectral peaks"
   ]
  },
  {
   "cell_type": "code",
   "execution_count": 2,
   "metadata": {},
   "outputs": [],
   "source": [
    "import matplotlib.pyplot as plt\n",
    "import librosa.display\n",
    "\n",
    "import numpy as np\n",
    "import pandas as pd\n",
    "import librosa"
   ]
  },
  {
   "cell_type": "code",
   "execution_count": 3,
   "metadata": {},
   "outputs": [],
   "source": [
    "def find_spectral_peaks(filename):\n",
    "    print(\"fsp\")\n",
    "    y, sr = librosa.load(filename)\n",
    "    D = np.abs(librosa.stft(y))\n",
    "    tst_array = D\n",
    "    max_filter_size = [91, 65]\n",
    "    for x_init in range(0, tst_array.shape[0], max_filter_size[0]):\n",
    "        for y_init in range(0, tst_array.shape[1], max_filter_size[1]):\n",
    "            subarr = tst_array[x_init:(x_init + max_filter_size[0]), y_init:(y_init + max_filter_size[1])]\n",
    "            mx = np.amax(subarr)\n",
    "            tst_array[x_init:(x_init + max_filter_size[0]), y_init:(y_init + max_filter_size[1])] = np.where(subarr != mx, 0, subarr)\n",
    "    # print(\"MAX FILTER APPLIED:\")\n",
    "    min_filter_size = [3, 3]\n",
    "    for x_init in range(0, tst_array.shape[0], min_filter_size[0]):\n",
    "        for y_init in range(0, tst_array.shape[1], min_filter_size[1]):\n",
    "            subarr = tst_array[x_init:(x_init + min_filter_size[0]), y_init:(y_init + min_filter_size[1])]\n",
    "            mn = np.amin(subarr)\n",
    "            tst_array[x_init:(x_init + min_filter_size[0]), y_init:(y_init + min_filter_size[1])] = np.where(subarr != mn, subarr, 0)\n",
    "    # print(\"MIN FILTER APPLIED:\")\n",
    "    return np.count_nonzero(tst_array), D"
   ]
  },
  {
   "cell_type": "code",
   "execution_count": 4,
   "metadata": {},
   "outputs": [],
   "source": [
    "def get_peak_coordinates_from_matrix(matrix):\n",
    "    print(\"gpfm\")\n",
    "    coordinates = []\n",
    "    for i in range(matrix.shape[0]):\n",
    "        for col in range(matrix.shape[1]):\n",
    "            if matrix[i][col] != 0:\n",
    "                coordinates.append((i, col))\n",
    "   # print(coordinates)\n",
    "    return coordinates"
   ]
  },
  {
   "cell_type": "code",
   "execution_count": 29,
   "metadata": {},
   "outputs": [],
   "source": [
    "#Creating Quads\n",
    "def create_quads(spectral_peaks_array):\n",
    "        #STEP - 1: Using the x,y values of the peaks, sort it based on time\n",
    "        print(\"cq\")\n",
    "        quads = []\n",
    "        spectral_peaks_array = sorted(spectral_peaks_array)\n",
    "        spectral_peaks_array = np.array(spectral_peaks_array)\n",
    "        print(spectral_peaks_array)\n",
    "        #STEP -2: define a value k and then define r with k being the mid point\n",
    "        for root in spectral_peaks_array:\n",
    "            Ax,Ay = 600, 1000\n",
    "            k = 10\n",
    "            r = 8\n",
    "            n = 0\n",
    "            start = int(Ax + (k - r/2))\n",
    "            end = int(Ax + k + r/2)\n",
    "            np.where(spectral_peaks_array > (start, Ay), spectral_peaks_array, 0)\n",
    "            print(\"considered points\")\n",
    "            print(spectral_peaks_array)\n",
    "            break\n",
    "#             range_peaks = []\n",
    "#             for i in range(start, end):\n",
    "#                 range_peaks.append(sorted_peaks[i])\n",
    "#                 n += 1\n",
    "#             #STEP -3: chose a peak value which should denote B \n",
    "#             if(n <= 3):\n",
    "#                 # discard and move to the next root node\n",
    "#                 continue\n",
    "#             range_peaks = sorted(range_peaks)\n",
    "#             B = range_peaks[-1]\n",
    "#             #STEP -4: Using the above steps a bounding box has been created, now within the bounding box apply the 4 conditions\n",
    "#             for j in range_peaks:\n",
    "#                 if(A[1] < B[1]):\n",
    "#                     for z in range(j+1,range_peaks):\n",
    "#                         C = j\n",
    "#                         D = z\n",
    "#                         if(A[0] < C[0] and C[0]<= D[0] and D[0] <= B[0]):\n",
    "#                             if(A[1] < C[1] and C[1]< D[1] and D[1] < B[1]):\n",
    "#                                 B_x_off = B[0] - Ax\n",
    "#                                 B_y_off = B[1] - Ay\n",
    "#                                 C_x_off = C[0] - Ax\n",
    "#                                 C_y_off = C[1] - Ay\n",
    "#                                 D_x_off = D[0] - Ax\n",
    "#                                 D_y_off = D[1] - Ay\n",
    "#                 #STEP -5: Append the four values [A,B,C,D] in the Quad array\n",
    "\n",
    "#                                 quads.append([(A[0],A[1]),(B_x_off,B_y_off),(C_x_off,C_y_off),(D_x_off,D_y_off)])\n",
    "\n",
    "        #STEP -4: Repeat for all peaks and create quads array\n",
    "        return quads"
   ]
  },
  {
   "cell_type": "markdown",
   "metadata": {},
   "source": [
    "# Stage 2 : Storing hashes"
   ]
  },
  {
   "cell_type": "code",
   "execution_count": 6,
   "metadata": {},
   "outputs": [],
   "source": [
    "import sqlite3\n",
    "from rtree import index"
   ]
  },
  {
   "cell_type": "code",
   "execution_count": 7,
   "metadata": {},
   "outputs": [
    {
     "name": "stdout",
     "output_type": "stream",
     "text": [
      "Opened database successfully\n"
     ]
    }
   ],
   "source": [
    "conn = sqlite3.connect('quad.db')\n",
    "print(\"Opened database successfully\")"
   ]
  },
  {
   "cell_type": "code",
   "execution_count": 8,
   "metadata": {},
   "outputs": [
    {
     "ename": "OperationalError",
     "evalue": "table UNNORMALIZED_QUADS already exists",
     "output_type": "error",
     "traceback": [
      "\u001b[0;31m---------------------------------------------------------------------------\u001b[0m",
      "\u001b[0;31mOperationalError\u001b[0m                          Traceback (most recent call last)",
      "\u001b[0;32m<ipython-input-8-1cfe482fd2d3>\u001b[0m in \u001b[0;36m<module>\u001b[0;34m\u001b[0m\n\u001b[1;32m      8\u001b[0m          \u001b[0mCY\u001b[0m  \u001b[0mINT\u001b[0m                 \u001b[0mNOT\u001b[0m \u001b[0mNULL\u001b[0m\u001b[0;34m,\u001b[0m\u001b[0;34m\u001b[0m\u001b[0;34m\u001b[0m\u001b[0m\n\u001b[1;32m      9\u001b[0m          \u001b[0mDX\u001b[0m  \u001b[0mINT\u001b[0m                 \u001b[0mNOT\u001b[0m \u001b[0mNULL\u001b[0m\u001b[0;34m,\u001b[0m\u001b[0;34m\u001b[0m\u001b[0;34m\u001b[0m\u001b[0m\n\u001b[0;32m---> 10\u001b[0;31m          DY  INT                 NOT NULL);''')\n\u001b[0m",
      "\u001b[0;31mOperationalError\u001b[0m: table UNNORMALIZED_QUADS already exists"
     ]
    }
   ],
   "source": [
    "conn.execute('''CREATE TABLE UNNORMALIZED_QUADS\n",
    "         (ID INT PRIMARY KEY     NOT NULL AUTOINCREMENT,\n",
    "         AX  INT                 NOT NULL,\n",
    "         AY  INT                 NOT NULL,\n",
    "         BX  INT                 NOT NULL,\n",
    "         BY  INT                 NOT NULL,\n",
    "         CX  INT                 NOT NULL,\n",
    "         CY  INT                 NOT NULL,\n",
    "         DX  INT                 NOT NULL,\n",
    "         DY  INT                 NOT NULL);''')\n"
   ]
  },
  {
   "cell_type": "code",
   "execution_count": 9,
   "metadata": {},
   "outputs": [
    {
     "ename": "OperationalError",
     "evalue": "table FIDINDEX already exists",
     "output_type": "error",
     "traceback": [
      "\u001b[0;31m---------------------------------------------------------------------------\u001b[0m",
      "\u001b[0;31mOperationalError\u001b[0m                          Traceback (most recent call last)",
      "\u001b[0;32m<ipython-input-9-cb3b33af0cc8>\u001b[0m in \u001b[0;36m<module>\u001b[0;34m\u001b[0m\n\u001b[1;32m      3\u001b[0m          \u001b[0mFILENAME\u001b[0m \u001b[0mTEXT\u001b[0m           \u001b[0mNOT\u001b[0m \u001b[0mNULL\u001b[0m\u001b[0;34m,\u001b[0m\u001b[0;34m\u001b[0m\u001b[0;34m\u001b[0m\u001b[0m\n\u001b[1;32m      4\u001b[0m          \u001b[0mQUADIDX_START\u001b[0m \u001b[0mINT\u001b[0m       \u001b[0mNOT\u001b[0m \u001b[0mNULL\u001b[0m\u001b[0;34m,\u001b[0m\u001b[0;34m\u001b[0m\u001b[0;34m\u001b[0m\u001b[0m\n\u001b[0;32m----> 5\u001b[0;31m          QUADIDX_END   INT       NOT NULL);''')\n\u001b[0m",
      "\u001b[0;31mOperationalError\u001b[0m: table FIDINDEX already exists"
     ]
    }
   ],
   "source": [
    "conn.execute('''CREATE TABLE FIDINDEX\n",
    "         (FID INT PRIMARY KEY    NOT NULL,\n",
    "         FILENAME TEXT           NOT NULL,\n",
    "         QUADIDX_START INT       NOT NULL,\n",
    "         QUADIDX_END   INT       NOT NULL);''')"
   ]
  },
  {
   "cell_type": "code",
   "execution_count": 10,
   "metadata": {},
   "outputs": [],
   "source": [
    "# TODO : Complete this function\n",
    "def quads_sanity_check(quads):\n",
    "    return 1"
   ]
  },
  {
   "cell_type": "code",
   "execution_count": 15,
   "metadata": {},
   "outputs": [],
   "source": [
    "def db_insert_quads_record(file, quads):\n",
    "    if quads_sanity_check(quads) == 0:\n",
    "        return\n",
    "    cur = conn.cursor()\n",
    "    cur.execute(\"SELECT ID FROM UNNORMALIZED_QUADS ORDER BY ID DESC LIMIT 1\")\n",
    "    row = cur.fetchall()\n",
    "    if not row:\n",
    "        start_id = 0\n",
    "    start_id = 200\n",
    "    for a in quads:\n",
    "        cur.execute(\"INSERT INTO UNNORMALIZED_QUADS VALUES ({}, {}, {}, {}, {}, {}, {}, {}, {})\".format(\n",
    "                    (start_id+1), a[0][0], a[0][1], a[1][0], a[1][1], a[2][0], a[2][1], a[3][0], a[3][1]))\n",
    "        start_id += 1\n",
    "    return row"
   ]
  },
  {
   "cell_type": "markdown",
   "metadata": {},
   "source": [
    "# System simulations"
   ]
  },
  {
   "cell_type": "code",
   "execution_count": 12,
   "metadata": {
    "slideshow": {
     "slide_type": "-"
    }
   },
   "outputs": [],
   "source": [
    "import os\n",
    "import time\n",
    "path = '/home/supraraj/Projects/AudioFinger/audio_files/'\n",
    "\n",
    "audio_input_files = []\n",
    "# r=root, d=directories, f = files\n",
    "for r, d, f in os.walk(path):\n",
    "    for file in f:\n",
    "        if '.mp3' in file:\n",
    "            audio_input_files.append(os.path.join(r, file))"
   ]
  },
  {
   "cell_type": "code",
   "execution_count": 30,
   "metadata": {},
   "outputs": [
    {
     "name": "stdout",
     "output_type": "stream",
     "text": [
      "\n",
      "File: /home/supraraj/Projects/AudioFinger/audio_files/Nico & Vinz - Am I Wrong [Official Music Video].mp3\n",
      "fsp\n",
      "gpfm\n",
      "cq\n",
      "[[    3  4096]\n",
      " [    3  8317]\n",
      " [    3  8322]\n",
      " ...\n",
      " [ 1007 10219]\n",
      " [ 1007 11660]\n",
      " [ 1011   904]]\n",
      "considered points\n",
      "[[    3  4096]\n",
      " [    3  8317]\n",
      " [    3  8322]\n",
      " ...\n",
      " [ 1007 10219]\n",
      " [ 1007 11660]\n",
      " [ 1011   904]]\n"
     ]
    }
   ],
   "source": [
    "for file in audio_input_files:\n",
    "    print(\"\")\n",
    "    print(\"File: {}\".format(file))\n",
    "    start = time.time()\n",
    "    peak_count, peaks = find_spectral_peaks(file)\n",
    "    peaks_coordinates = get_peak_coordinates_from_matrix(peaks)\n",
    "    quads_created = create_quads(peaks_coordinates)\n",
    "    # expected to get a list of tuples of the form [[(x,y), (bx_off,by_off), (cx_off,cy_off), (dx_off,dy_off)], ...] \n",
    "    #quads = [[(3,4), (10, 40), (2, 5), (3, 15)],\n",
    "        #         [(6,7), (8, 23), (1, 1), (2, 2)]]\n",
    "    \n",
    "    #row = db_insert_quads_record(file, quads)\n",
    "    #print(row)\n",
    "    #end = time.time()\n",
    "    break"
   ]
  },
  {
   "cell_type": "code",
   "execution_count": 18,
   "metadata": {},
   "outputs": [
    {
     "data": {
      "text/plain": [
       "array([[ 0,  1,  2,  3,  4],\n",
       "       [ 5,  6,  7,  8,  9],\n",
       "       [10, 11, 12, 13, 14],\n",
       "       [15, 16, 17, 18, 19],\n",
       "       [20, 21, 22, 23, 24],\n",
       "       [25, 26, 27, 28, 29],\n",
       "       [30, 31, 32, 33, 34],\n",
       "       [35, 36, 37, 38, 39],\n",
       "       [40, 41, 42, 43, 44],\n",
       "       [45, 46, 47, 48, 49],\n",
       "       [50, 51, 52, 53, 54],\n",
       "       [55, 56, 57, 58, 59],\n",
       "       [60, 61, 62, 63, 64],\n",
       "       [65, 66, 67, 68, 69],\n",
       "       [70, 71, 72, 73, 74],\n",
       "       [75, 76, 77, 78, 79],\n",
       "       [80, 81, 82, 83, 84],\n",
       "       [85, 86, 87, 88, 89],\n",
       "       [90, 91, 92, 93, 94],\n",
       "       [95, 96, 97, 98, 99]])"
      ]
     },
     "execution_count": 18,
     "metadata": {},
     "output_type": "execute_result"
    }
   ],
   "source": [
    "a = np.arange(100).reshape(20,5)\n",
    "a"
   ]
  },
  {
   "cell_type": "code",
   "execution_count": 35,
   "metadata": {},
   "outputs": [
    {
     "data": {
      "text/plain": [
       "False"
      ]
     },
     "execution_count": 35,
     "metadata": {},
     "output_type": "execute_result"
    }
   ],
   "source": [
    "(90, 100) > (100, 90)"
   ]
  },
  {
   "cell_type": "code",
   "execution_count": null,
   "metadata": {},
   "outputs": [],
   "source": []
  }
 ],
 "metadata": {
  "kernelspec": {
   "display_name": "Python 3",
   "language": "python",
   "name": "python3"
  },
  "language_info": {
   "codemirror_mode": {
    "name": "ipython",
    "version": 3
   },
   "file_extension": ".py",
   "mimetype": "text/x-python",
   "name": "python",
   "nbconvert_exporter": "python",
   "pygments_lexer": "ipython3",
   "version": "3.7.3"
  }
 },
 "nbformat": 4,
 "nbformat_minor": 2
}
