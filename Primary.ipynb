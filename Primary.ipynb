{
 "cells": [
  {
   "cell_type": "markdown",
   "metadata": {},
   "source": [
    "# Stage 1 : Spectral peaks"
   ]
  },
  {
   "cell_type": "code",
   "execution_count": 76,
   "metadata": {},
   "outputs": [],
   "source": [
    "import matplotlib.pyplot as plt\n",
    "import librosa.display\n",
    "\n",
    "import numpy as np\n",
    "import pandas as pd\n",
    "import librosa\n",
    "\n",
    "from rtree import index"
   ]
  },
  {
   "cell_type": "code",
   "execution_count": null,
   "metadata": {},
   "outputs": [],
   "source": [
    "y, sr = librosa.load(\"tambourine_man_bob_dylan.mp3\")"
   ]
  },
  {
   "cell_type": "code",
   "execution_count": null,
   "metadata": {},
   "outputs": [],
   "source": [
    "D = np.abs(librosa.stft(y))"
   ]
  },
  {
   "cell_type": "code",
   "execution_count": null,
   "metadata": {},
   "outputs": [],
   "source": []
  },
  {
   "cell_type": "code",
   "execution_count": null,
   "metadata": {},
   "outputs": [],
   "source": [
    "plt.figure(figsize=(10, 4))\n",
    "librosa.display.specshow(librosa.power_to_db(D,\n",
    "                                             ref=np.max),\n",
    "                         y_axis='log',\n",
    "                         x_axis='time')\n",
    "plt.colorbar(format='%+2.0f dB')\n",
    "plt.title('Mel spectrogram')\n",
    "plt.tight_layout()"
   ]
  },
  {
   "cell_type": "code",
   "execution_count": null,
   "metadata": {},
   "outputs": [],
   "source": [
    "tst_array = D\n",
    "print(\"TST ARRAY with shape\")\n",
    "print(D.shape)\n",
    "print(tst_array)\n",
    "max_filter_size = [91, 65]\n",
    "for x_init in range(0, tst_array.shape[0], max_filter_size[0]):\n",
    "    for y_init in range(0, tst_array.shape[1], max_filter_size[1]):\n",
    "        subarr = tst_array[x_init:(x_init + max_filter_size[0]), y_init:(y_init + max_filter_size[1])]\n",
    "        mx = np.amax(subarr)\n",
    "        tst_array[x_init:(x_init + max_filter_size[0]), y_init:(y_init + max_filter_size[1])] = np.where(subarr != mx, 0, subarr)\n",
    "print(\"MAX FILTER APPLIED:\")\n",
    "print(tst_array)\n",
    "min_filter_size = [3, 3]\n",
    "for x_init in range(0, tst_array.shape[0], min_filter_size[0]):\n",
    "    for y_init in range(0, tst_array.shape[1], min_filter_size[1]):\n",
    "        subarr = tst_array[x_init:(x_init + min_filter_size[0]), y_init:(y_init + min_filter_size[1])]\n",
    "        mn = np.amin(subarr)\n",
    "        tst_array[x_init:(x_init + min_filter_size[0]), y_init:(y_init + min_filter_size[1])] = np.where(subarr != mn, subarr, 0)\n",
    "print(\"MIN FILTER APPLIED:\")\n",
    "print(tst_array)\n",
    "print(\"Number of spectral peaks: {}\".format(np.count_nonzero(tst_array)))"
   ]
  },
  {
   "cell_type": "code",
   "execution_count": null,
   "metadata": {},
   "outputs": [],
   "source": [
    "plt.figure(figsize=(10, 4))\n",
    "librosa.display.specshow(librosa.power_to_db(D,\n",
    "                                             ref=np.max),\n",
    "                         y_axis='log',\n",
    "                         x_axis='time')\n",
    "plt.colorbar(format='%+2.0f dB')\n",
    "plt.title('Spectral Peaks')\n",
    "plt.tight_layout()"
   ]
  },
  {
   "cell_type": "code",
   "execution_count": null,
   "metadata": {},
   "outputs": [],
   "source": []
  },
  {
   "cell_type": "code",
   "execution_count": null,
   "metadata": {},
   "outputs": [],
   "source": []
  }
 ],
 "metadata": {
  "kernelspec": {
   "display_name": "Python 3",
   "language": "python",
   "name": "python3"
  },
  "language_info": {
   "codemirror_mode": {
    "name": "ipython",
    "version": 3
   },
   "file_extension": ".py",
   "mimetype": "text/x-python",
   "name": "python",
   "nbconvert_exporter": "python",
   "pygments_lexer": "ipython3",
   "version": "3.7.1"
  }
 },
 "nbformat": 4,
 "nbformat_minor": 2
}
