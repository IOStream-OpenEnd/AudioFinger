{
 "cells": [
  {
   "cell_type": "markdown",
   "metadata": {},
   "source": [
    "# Stage 1 : Spectral peaks"
   ]
  },
  {
   "cell_type": "code",
   "execution_count": 28,
   "metadata": {},
   "outputs": [],
   "source": [
    "import matplotlib.pyplot as plt\n",
    "import librosa.display\n",
    "\n",
    "import numpy as np\n",
    "import pandas as pd\n",
    "import librosa"
   ]
  },
  {
   "cell_type": "code",
   "execution_count": 10,
   "metadata": {},
   "outputs": [],
   "source": [
    "def find_spectral_peaks(filename):\n",
    "    y, sr = librosa.load(filename)\n",
    "    D = np.abs(librosa.stft(y))\n",
    "    tst_array = D\n",
    "    max_filter_size = [91, 65]\n",
    "    for x_init in range(0, tst_array.shape[0], max_filter_size[0]):\n",
    "        for y_init in range(0, tst_array.shape[1], max_filter_size[1]):\n",
    "            subarr = tst_array[x_init:(x_init + max_filter_size[0]), y_init:(y_init + max_filter_size[1])]\n",
    "            mx = np.amax(subarr)\n",
    "            tst_array[x_init:(x_init + max_filter_size[0]), y_init:(y_init + max_filter_size[1])] = np.where(subarr != mx, 0, subarr)\n",
    "    # print(\"MAX FILTER APPLIED:\")\n",
    "    min_filter_size = [3, 3]\n",
    "    for x_init in range(0, tst_array.shape[0], min_filter_size[0]):\n",
    "        for y_init in range(0, tst_array.shape[1], min_filter_size[1]):\n",
    "            subarr = tst_array[x_init:(x_init + min_filter_size[0]), y_init:(y_init + min_filter_size[1])]\n",
    "            mn = np.amin(subarr)\n",
    "            tst_array[x_init:(x_init + min_filter_size[0]), y_init:(y_init + min_filter_size[1])] = np.where(subarr != mn, subarr, 0)\n",
    "    # print(\"MIN FILTER APPLIED:\")\n",
    "    return np.count_nonzero(tst_array), D"
   ]
  },
  {
   "cell_type": "code",
   "execution_count": 11,
   "metadata": {},
   "outputs": [],
   "source": [
    "def get_peak_coordinates_from_matrix(matrix):\n",
    "    coordinates = []\n",
    "    for row in matrix:\n",
    "        for col in row:\n",
    "            if matrix[row][col] != 0:\n",
    "                coordinates.append((row, col))\n",
    "    return coordinates"
   ]
  },
  {
   "cell_type": "markdown",
   "metadata": {},
   "source": [
    "# Stage 2 : Storing hashes"
   ]
  },
  {
   "cell_type": "code",
   "execution_count": 30,
   "metadata": {},
   "outputs": [],
   "source": [
    "import sqlite3\n",
    "from rtree import index"
   ]
  },
  {
   "cell_type": "code",
   "execution_count": 31,
   "metadata": {},
   "outputs": [
    {
     "name": "stdout",
     "output_type": "stream",
     "text": [
      "Opened database successfully\n"
     ]
    }
   ],
   "source": [
    "conn = sqlite3.connect('quad.db')\n",
    "print(\"Opened database successfully\")"
   ]
  },
  {
   "cell_type": "code",
   "execution_count": 32,
   "metadata": {},
   "outputs": [
    {
     "data": {
      "text/plain": [
       "<sqlite3.Cursor at 0x7f9ac0853180>"
      ]
     },
     "execution_count": 32,
     "metadata": {},
     "output_type": "execute_result"
    }
   ],
   "source": [
    "conn.execute('''CREATE TABLE UNNORMALIZED_QUADS\n",
    "         (ID INT PRIMARY KEY     NOT NULL AUTOINCREMENT,\n",
    "         AX  INT                 NOT NULL,\n",
    "         AY  INT                 NOT NULL,\n",
    "         BX  INT                 NOT NULL,\n",
    "         BY  INT                 NOT NULL,\n",
    "         CX  INT                 NOT NULL,\n",
    "         CY  INT                 NOT NULL,\n",
    "         DX  INT                 NOT NULL,\n",
    "         DY  INT                 NOT NULL);''')\n"
   ]
  },
  {
   "cell_type": "code",
   "execution_count": 33,
   "metadata": {},
   "outputs": [
    {
     "data": {
      "text/plain": [
       "<sqlite3.Cursor at 0x7f9ac08532d0>"
      ]
     },
     "execution_count": 33,
     "metadata": {},
     "output_type": "execute_result"
    }
   ],
   "source": [
    "conn.execute('''CREATE TABLE FIDINDEX\n",
    "         (FID INT PRIMARY KEY    NOT NULL,\n",
    "         FILENAME TEXT           NOT NULL,\n",
    "         QUADIDX_START INT       NOT NULL,\n",
    "         QUADIDX_END   INT       NOT NULL);''')"
   ]
  },
  {
   "cell_type": "code",
   "execution_count": 14,
   "metadata": {},
   "outputs": [],
   "source": [
    "# TODO : Complete this function\n",
    "def quads_sanity_check(quads):\n",
    "    return 1"
   ]
  },
  {
   "cell_type": "code",
   "execution_count": 29,
   "metadata": {},
   "outputs": [],
   "source": [
    "def db_insert_quads_record(file, quads):\n",
    "    if quads_sanity_check(quads) == 0:\n",
    "        return\n",
    "    cur = conn.cursor()\n",
    "    cur.execute(\"SELECT ID FROM UNNORMALIZED_QUADS ORDER BY ID DESC LIMIT 1\")\n",
    "    row = cur.fetchall()\n",
    "    if not row:\n",
    "        start_id = 0\n",
    "    start_id = 200\n",
    "    for a in quads:\n",
    "        cur.execute(\"INSERT INTO UNNORMALIZED_QUADS VALUES ({}, {}, {}, {}, {}, {}, {}, {}, {})\".format(\n",
    "                    (start_id+1), a[0][0], a[0][1], a[1][0], a[1][1], a[2][0], a[2][1], a[3][0], a[3][1]))\n",
    "        start_id += 1\n",
    "    return row"
   ]
  },
  {
   "cell_type": "markdown",
   "metadata": {},
   "source": [
    "# System simulations"
   ]
  },
  {
   "cell_type": "code",
   "execution_count": 37,
   "metadata": {
    "slideshow": {
     "slide_type": "-"
    }
   },
   "outputs": [],
   "source": [
    "import os\n",
    "import time\n",
    "path = '/home/supraraj/Projects/AudioFinger/audio_files/'\n",
    "\n",
    "audio_input_files = []\n",
    "# r=root, d=directories, f = files\n",
    "for r, d, f in os.walk(path):\n",
    "    for file in f:\n",
    "        if '.mp3' in file:\n",
    "            audio_input_files.append(os.path.join(r, file))"
   ]
  },
  {
   "cell_type": "code",
   "execution_count": 30,
   "metadata": {},
   "outputs": [
    {
     "name": "stdout",
     "output_type": "stream",
     "text": [
      "\n",
      "File: /home/supraraj/Projects/AudioFinger/audio_files/Nico & Vinz - Am I Wrong [Official Music Video].mp3\n",
      "[(2,)]\n",
      "Peak count: 2388 in time 0.0007584095001220703\n",
      "\n",
      "File: /home/supraraj/Projects/AudioFinger/audio_files/P!nk - Just Give Me A Reason ft. Nate Ruess (1).mp3\n"
     ]
    },
    {
     "ename": "IntegrityError",
     "evalue": "UNIQUE constraint failed: UNNORMALIZED_QUADS.ID",
     "output_type": "error",
     "traceback": [
      "\u001b[0;31m---------------------------------------------------------------------------\u001b[0m",
      "\u001b[0;31mIntegrityError\u001b[0m                            Traceback (most recent call last)",
      "\u001b[0;32m<ipython-input-30-509fdce178cf>\u001b[0m in \u001b[0;36m<module>\u001b[0;34m\u001b[0m\n\u001b[1;32m     10\u001b[0m                  [(6,7), (8, 23), (1, 1), (2, 2)]]\n\u001b[1;32m     11\u001b[0m \u001b[0;34m\u001b[0m\u001b[0m\n\u001b[0;32m---> 12\u001b[0;31m     \u001b[0mrow\u001b[0m \u001b[0;34m=\u001b[0m \u001b[0mdb_insert_quads_record\u001b[0m\u001b[0;34m(\u001b[0m\u001b[0mfile\u001b[0m\u001b[0;34m,\u001b[0m \u001b[0mquads\u001b[0m\u001b[0;34m)\u001b[0m\u001b[0;34m\u001b[0m\u001b[0;34m\u001b[0m\u001b[0m\n\u001b[0m\u001b[1;32m     13\u001b[0m     \u001b[0mprint\u001b[0m\u001b[0;34m(\u001b[0m\u001b[0mrow\u001b[0m\u001b[0;34m)\u001b[0m\u001b[0;34m\u001b[0m\u001b[0;34m\u001b[0m\u001b[0m\n\u001b[1;32m     14\u001b[0m     \u001b[0mend\u001b[0m \u001b[0;34m=\u001b[0m \u001b[0mtime\u001b[0m\u001b[0;34m.\u001b[0m\u001b[0mtime\u001b[0m\u001b[0;34m(\u001b[0m\u001b[0;34m)\u001b[0m\u001b[0;34m\u001b[0m\u001b[0;34m\u001b[0m\u001b[0m\n",
      "\u001b[0;32m<ipython-input-29-dc6c3a943fd5>\u001b[0m in \u001b[0;36mdb_insert_quads_record\u001b[0;34m(file, quads)\u001b[0m\n\u001b[1;32m     10\u001b[0m     \u001b[0;32mfor\u001b[0m \u001b[0ma\u001b[0m \u001b[0;32min\u001b[0m \u001b[0mquads\u001b[0m\u001b[0;34m:\u001b[0m\u001b[0;34m\u001b[0m\u001b[0;34m\u001b[0m\u001b[0m\n\u001b[1;32m     11\u001b[0m         cur.execute(\"INSERT INTO UNNORMALIZED_QUADS VALUES ({}, {}, {}, {}, {}, {}, {}, {}, {})\".format(\n\u001b[0;32m---> 12\u001b[0;31m                     (start_id+1), a[0][0], a[0][1], a[1][0], a[1][1], a[2][0], a[2][1], a[3][0], a[3][1]))\n\u001b[0m\u001b[1;32m     13\u001b[0m         \u001b[0mstart_id\u001b[0m \u001b[0;34m+=\u001b[0m \u001b[0;36m1\u001b[0m\u001b[0;34m\u001b[0m\u001b[0;34m\u001b[0m\u001b[0m\n\u001b[1;32m     14\u001b[0m     \u001b[0;32mreturn\u001b[0m \u001b[0mrow\u001b[0m\u001b[0;34m\u001b[0m\u001b[0;34m\u001b[0m\u001b[0m\n",
      "\u001b[0;31mIntegrityError\u001b[0m: UNIQUE constraint failed: UNNORMALIZED_QUADS.ID"
     ]
    }
   ],
   "source": [
    "for file in audio_input_files:\n",
    "    print(\"\")\n",
    "    print(\"File: {}\".format(file))\n",
    "    start = time.time()\n",
    "    #peak_count, peaks = find_spectral_peaks(file)\n",
    "    #peaks_coordinates = get_peak_coordinates_from_matrix(peaks)\n",
    "    \n",
    "    # expected to get a list of tuples of the form [[(x,y), (bx_off,by_off), (cx_off,cy_off), (dx_off,dy_off)], ...] \n",
    "    quads = [[(3,4), (10, 40), (2, 5), (3, 15)],\n",
    "                 [(6,7), (8, 23), (1, 1), (2, 2)]]\n",
    "    \n",
    "    row = db_insert_quads_record(file, quads)\n",
    "    print(row)\n",
    "    end = time.time()\n",
    "    print(\"Peak count: {} in time {}\".format(peak_count, (end-start)))\n",
    "        "
   ]
  },
  {
   "cell_type": "code",
   "execution_count": null,
   "metadata": {},
   "outputs": [],
   "source": []
  },
  {
   "cell_type": "code",
   "execution_count": null,
   "metadata": {},
   "outputs": [],
   "source": []
  }
 ],
 "metadata": {
  "kernelspec": {
   "display_name": "Python 3",
   "language": "python",
   "name": "python3"
  },
  "language_info": {
   "codemirror_mode": {
    "name": "ipython",
    "version": 3
   },
   "file_extension": ".py",
   "mimetype": "text/x-python",
   "name": "python",
   "nbconvert_exporter": "python",
   "pygments_lexer": "ipython3",
   "version": "3.7.3"
  }
 },
 "nbformat": 4,
 "nbformat_minor": 2
}
